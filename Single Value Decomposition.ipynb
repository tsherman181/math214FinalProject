{
 "cells": [
  {
   "cell_type": "code",
   "execution_count": 2,
   "metadata": {},
   "outputs": [],
   "source": [
    "import numpy as np\n",
    "import pandas as pd\n",
    "from PIL import Image as im\n",
    "import matplotlib.pyplot as plt"
   ]
  },
  {
   "cell_type": "code",
   "execution_count": 7,
   "metadata": {},
   "outputs": [],
   "source": [
    "greyImg = np.matrix([[0,255], [200,100], [75, 0]])\n",
    "\n",
    "#Our initial Matrix:\n",
    "#   | 0   255 |\n",
    "#   | 200 100 |\n",
    "#   | 75  0   |"
   ]
  },
  {
   "cell_type": "code",
   "execution_count": 8,
   "metadata": {},
   "outputs": [
    {
     "data": {
      "image/png": "[encoded data removed]",
      "text/plain": [
       "<Figure size 432x288 with 1 Axes>"
      ]
     },
     "metadata": {
      "needs_background": "light"
     },
     "output_type": "display_data"
    }
   ],
   "source": [
    "imgplot = plt.imshow(greyImg, cmap='gray')\n",
    "#This is our matrix as a greyscale image"
   ]
  },
  {
   "cell_type": "code",
   "execution_count": 9,
   "metadata": {},
   "outputs": [],
   "source": [
    "greyImgTranspose = greyImg.getH()"
   ]
  },
  {
   "cell_type": "code",
   "execution_count": 10,
   "metadata": {},
   "outputs": [
    {
     "data": {
      "image/png": "[encoded data removed]",
      "text/plain": [
       "<Figure size 432x288 with 1 Axes>"
      ]
     },
     "metadata": {
      "needs_background": "light"
     },
     "output_type": "display_data"
    }
   ],
   "source": [
    "imgplot = plt.imshow(greyImgTranspose, cmap='gray')"
   ]
  },
  {
   "cell_type": "code",
   "execution_count": 11,
   "metadata": {},
   "outputs": [],
   "source": [
    "matrixB = np.matmul(greyImg, greyImgTranspose)"
   ]
  },
  {
   "cell_type": "code",
   "execution_count": 12,
   "metadata": {
    "scrolled": true
   },
   "outputs": [
    {
     "name": "stdout",
     "output_type": "stream",
     "text": [
      "[[65025 25500     0]\n",
      " [25500 50000 15000]\n",
      " [    0 15000  5625]]\n"
     ]
    },
    {
     "data": {
      "image/png": "[encoded data removed]",
      "text/plain": [
       "<Figure size 432x288 with 1 Axes>"
      ]
     },
     "metadata": {
      "needs_background": "light"
     },
     "output_type": "display_data"
    }
   ],
   "source": [
    "imgplot = plt.imshow(matrixB, cmap='gray')\n",
    "print(matrixB)"
   ]
  },
  {
   "cell_type": "code",
   "execution_count": 150,
   "metadata": {},
   "outputs": [
    {
     "name": "stdout",
     "output_type": "stream",
     "text": [
      "Matrix U\n",
      "[[ 0.77973396 -0.61107094  0.13640839]\n",
      " [ 0.61526087  0.70743229 -0.34784138]\n",
      " [ 0.11605607  0.35515048  0.92757702]]\n",
      "\n",
      "Matrix Sigma\n",
      "[[291.79814997   0.        ]\n",
      " [  0.         188.42462597]\n",
      " [  0.           0.        ]]\n",
      "\n",
      "Matrix VTranspose\n",
      "[[ 0.4515326   0.89225462]\n",
      " [ 0.89225462 -0.4515326 ]]\n",
      "\n",
      "Matrix A (greyImg)\n",
      "[[1.42108547e-14 2.55000000e+02]\n",
      " [2.00000000e+02 1.00000000e+02]\n",
      " [7.50000000e+01 2.48689958e-14]]\n"
     ]
    },
    {
     "data": {
      "text/plain": [
       "<matplotlib.image.AxesImage at 0x7fc9b79fec40>"
      ]
     },
     "execution_count": 150,
     "metadata": {},
     "output_type": "execute_result"
    },
    {
     "data": {
      "image/png": "[encoded data removed]",
      "text/plain": [
       "<Figure size 432x288 with 1 Axes>"
      ]
     },
     "metadata": {
      "needs_background": "light"
     },
     "output_type": "display_data"
    }
   ],
   "source": [
    "##Now we need to find the eigenvectors and eigenvalues of B\n",
    "##The eigenvectors neeeds to be unit vectors\n",
    "\n",
    "eigenValues = np.linalg.eig(matrixB)\n",
    "eVals = np.linalg.eigvals(matrixB)\n",
    "\n",
    "#These are the eigenValues\n",
    "lambda1 = eigenValues[0][0]\n",
    "lambda2 = eigenValues[0][1]\n",
    "lambda3 = eigenValues[0][2]\n",
    "\n",
    "#These are the eigenvectors\n",
    "eVector1 = eigenValues[1][0]\n",
    "eVector2 = eigenValues[1][1]\n",
    "eVector3 = eigenValues[1][2]\n",
    "\n",
    "#This is matrix U\n",
    "matrixU = np.hstack((eVector1.getH(), eVector2.getH(), eVector3.getH()))\n",
    "matrixU = matrixU.getH()\n",
    "print(\"Matrix U\")\n",
    "print(matrixU)\n",
    "print()\n",
    "\n",
    "#This is matrix Sigma\n",
    "print(\"Matrix Sigma\")\n",
    "matrixSigma = np.matrix([[lambda1**.5,0], [0,lambda2**.5], [0,0]])\n",
    "print(matrixSigma)\n",
    "print()\n",
    "\n",
    "v1 = 1/(lambda1**.5) * np.matmul(greyImg.getH(), matrixU[:,0])\n",
    "v2 = 1/(lambda2**.5) * np.matmul(greyImg.getH(), matrixU[:,1])\n",
    "matrixVTranspose = np.hstack((v1, v2))\n",
    "print(\"Matrix VTranspose\")\n",
    "print(matrixV)\n",
    "\n",
    "#Then our formula is A = U * Sigma * V(transpose)\n",
    "print()\n",
    "print(\"Matrix A (greyImg)\")\n",
    "print(np.matmul(matrixU, np.matmul(matrixSigma, matrixVTranspose)))\n",
    "\n",
    "plt.imshow(np.matmul(matrixU, np.matmul(matrixSigma, matrixVTranspose)), cmap='gray')"
   ]
  },
  {
   "cell_type": "code",
   "execution_count": 147,
   "metadata": {},
   "outputs": [
    {
     "name": "stdout",
     "output_type": "stream",
     "text": [
      "Matrix U\n",
      "[[ 0.77973396 -0.61107094]\n",
      " [ 0.61526087  0.70743229]\n",
      " [ 0.11605607  0.35515048]]\n",
      "\n",
      "Matrix Sigma\n",
      "[[291.79814997   0.        ]\n",
      " [  0.         188.42462597]]\n",
      "\n",
      "Matrix V Transpose\n",
      "[[ 0.4515326   0.89225462]\n",
      " [ 0.89225462 -0.4515326 ]]\n",
      "\n",
      "Matrix A\n",
      "[[-1.42108547e-14  2.55000000e+02]\n",
      " [ 2.00000000e+02  1.00000000e+02]\n",
      " [ 7.50000000e+01  2.13162821e-14]]\n"
     ]
    },
    {
     "data": {
      "text/plain": [
       "<matplotlib.image.AxesImage at 0x7fc9b5b25bb0>"
      ]
     },
     "execution_count": 147,
     "metadata": {},
     "output_type": "execute_result"
    },
    {
     "data": {
      "image/png": "[encoded data removed]",
      "text/plain": [
       "<Figure size 432x288 with 1 Axes>"
      ]
     },
     "metadata": {
      "needs_background": "light"
     },
     "output_type": "display_data"
    }
   ],
   "source": [
    "#Now this whole process can be done with the command np.linalg.svd\n",
    "u, s, vh = np.linalg.svd(greyImg, full_matrices=False)\n",
    "print(\"Matrix U\")\n",
    "print(u)\n",
    "print()\n",
    "print(\"Matrix Sigma\")\n",
    "print(np.diag(s))\n",
    "print()\n",
    "print(\"Matrix V Transpose\")\n",
    "print(vh)\n",
    "print()\n",
    "\n",
    "print(\"Matrix A\")\n",
    "print(np.matmul(u, np.matmul(np.diag(s), vh)))\n",
    "plt.imshow(np.matmul(u, np.matmul(np.diag(s), vh)), cmap='gray')"
   ]
  },
  {
   "cell_type": "code",
   "execution_count": null,
   "metadata": {},
   "outputs": [],
   "source": []
  }
 ],
 "metadata": {
  "kernelspec": {
   "display_name": "Python 3",
   "language": "python",
   "name": "python3"
  },
  "language_info": {
   "codemirror_mode": {
    "name": "ipython",
    "version": 3
   },
   "file_extension": ".py",
   "mimetype": "text/x-python",
   "name": "python",
   "nbconvert_exporter": "python",
   "pygments_lexer": "ipython3",
   "version": "3.8.3"
  }
 },
 "nbformat": 4,
 "nbformat_minor": 4
}
